{
 "cells": [
  {
   "source": [
    "## Welcome to Introduction to Named Entity Recognition 🎉\n",
    "\n",
    "This is our first notebook and will introduce the following topics:\n",
    "\n",
    "- How to preprocess textual data for NER\n",
    "- How to implement basic NER pipelines\n",
    "- How to use the basics of nltk and spacy libraries"
   ],
   "cell_type": "markdown",
   "metadata": {}
  },
  {
   "source": [
    "***"
   ],
   "cell_type": "markdown",
   "metadata": {}
  },
  {
   "source": [
    "We've discussed NER at 30000 ft level but how do we actually get a computer to help us take unstructured textual data and recognize named entities?\n",
    "\n",
    "Well first place to start is with how a computer even matches strings in the first place (sorry if this is repeat info but always good to go over the foundations!)."
   ],
   "cell_type": "markdown",
   "metadata": {}
  },
  {
   "cell_type": "code",
   "execution_count": 65,
   "id": "272cfeae",
   "metadata": {},
   "outputs": [],
   "source": [
    "# Let's import our first libraries for today. We'll be importing more later but first we will be using pandas and Python's regular expression library\n",
    "import pandas as pd\n",
    "import re"
   ]
  },
  {
   "source": [
    "Today we'll be using two datasets. The first is very tiny and a bit silly, but that's never a bad way to start a workshop!\n",
    "\n",
    "The dataset is a collection of movie scripts and metadata for the first three Harry Potter films (available publicly here on Kaggle https://www.kaggle.com/gulsahdemiryurek/harry-potter-dataset and apparently scraped from the potter wiki and pottermore.com).\n",
    "\n",
    "I usually teach NER using a web scraped version of the Humanist Listserv, but since I used it last week, I decided to mix it up a bit and William Mattingly uses a similar dataset in his videos on NER and DH, which I highly recommend and you can find them here https://pythonhumanities.com/."
   ],
   "cell_type": "markdown",
   "metadata": {}
  },
  {
   "cell_type": "code",
   "execution_count": 66,
   "id": "5c731757",
   "metadata": {},
   "outputs": [
    {
     "output_type": "execute_result",
     "data": {
      "text/plain": [
       "   Id                Name Gender      Job       House  \\\n",
       "0   1  Harry James Potter   Male  Student  Gryffindor   \n",
       "\n",
       "                          Wand Patronus Species Blood status Hair colour  \\\n",
       "0  11\"  Holly  phoenix feather     Stag   Human   Half-blood       Black   \n",
       "\n",
       "     Eye colour                                            Loyalty  \\\n",
       "0  Bright green  Albus Dumbledore | Dumbledore's Army | Order o...   \n",
       "\n",
       "                                              Skills         Birth Death  \n",
       "0  Parseltongue| Defence Against the Dark Arts | ...  31 July 1980   NaN  "
      ],
      "text/html": "<div>\n<style scoped>\n    .dataframe tbody tr th:only-of-type {\n        vertical-align: middle;\n    }\n\n    .dataframe tbody tr th {\n        vertical-align: top;\n    }\n\n    .dataframe thead th {\n        text-align: right;\n    }\n</style>\n<table border=\"1\" class=\"dataframe\">\n  <thead>\n    <tr style=\"text-align: right;\">\n      <th></th>\n      <th>Id</th>\n      <th>Name</th>\n      <th>Gender</th>\n      <th>Job</th>\n      <th>House</th>\n      <th>Wand</th>\n      <th>Patronus</th>\n      <th>Species</th>\n      <th>Blood status</th>\n      <th>Hair colour</th>\n      <th>Eye colour</th>\n      <th>Loyalty</th>\n      <th>Skills</th>\n      <th>Birth</th>\n      <th>Death</th>\n    </tr>\n  </thead>\n  <tbody>\n    <tr>\n      <th>0</th>\n      <td>1</td>\n      <td>Harry James Potter</td>\n      <td>Male</td>\n      <td>Student</td>\n      <td>Gryffindor</td>\n      <td>11\"  Holly  phoenix feather</td>\n      <td>Stag</td>\n      <td>Human</td>\n      <td>Half-blood</td>\n      <td>Black</td>\n      <td>Bright green</td>\n      <td>Albus Dumbledore | Dumbledore's Army | Order o...</td>\n      <td>Parseltongue| Defence Against the Dark Arts | ...</td>\n      <td>31 July 1980</td>\n      <td>NaN</td>\n    </tr>\n  </tbody>\n</table>\n</div>"
     },
     "metadata": {},
     "execution_count": 66
    }
   ],
   "source": [
    "# Let's load in and inspect our data starting with the Characters spreadsheet\n",
    "chars_df = pd.read_csv('./archive/Characters.csv', delimiter=';')\n",
    "chars_df[0:1]"
   ]
  },
  {
   "cell_type": "code",
   "execution_count": 191,
   "id": "c5e9da99",
   "metadata": {},
   "outputs": [
    {
     "output_type": "execute_result",
     "data": {
      "text/plain": [
       "    Character                                           Sentence\n",
       "0  Dumbledore  I should've known that you would be here, Prof..."
      ],
      "text/html": "<div>\n<style scoped>\n    .dataframe tbody tr th:only-of-type {\n        vertical-align: middle;\n    }\n\n    .dataframe tbody tr th {\n        vertical-align: top;\n    }\n\n    .dataframe thead th {\n        text-align: right;\n    }\n</style>\n<table border=\"1\" class=\"dataframe\">\n  <thead>\n    <tr style=\"text-align: right;\">\n      <th></th>\n      <th>Character</th>\n      <th>Sentence</th>\n    </tr>\n  </thead>\n  <tbody>\n    <tr>\n      <th>0</th>\n      <td>Dumbledore</td>\n      <td>I should've known that you would be here, Prof...</td>\n    </tr>\n  </tbody>\n</table>\n</div>"
     },
     "metadata": {},
     "execution_count": 191
    }
   ],
   "source": [
    "# Let's also load in the first film script\n",
    "film1_df = pd.read_csv('./archive/Harry Potter 1.csv', delimiter=';')\n",
    "film1_df[0:1]"
   ]
  },
  {
   "source": [
    "Now looking at these two files, you can immediately see that `chars_df` holds our metadata, whereas `film1_df` holds two columns representing the character speaking and their speech.\n",
    "\n",
    "So why would NER be helpful for extracting information from this dataset?"
   ],
   "cell_type": "markdown",
   "metadata": {}
  },
  {
   "source": [
    "![](https://newleftreview.org/system/dragonfly/production/2019/05/13/4k9ql9wxyf_3020501large.gif)"
   ],
   "cell_type": "markdown",
   "metadata": {}
  },
  {
   "source": [
    "This figure is from Stanford's Literary Lab Pamphlet exploring network analysis of Hamlet's plot. You can read more about the experiment here https://litlab.stanford.edu/LiteraryLabPamphlet2.pdf or read a similar network analysis here by James Lee https://dasil.sites.grinnell.edu/2014/11/a-network-analysis-of-shakespeares-plays/\n",
    "\n",
    "But essentially we can use NER to help us extract when a character speaks the name of another character. So let's try it out!"
   ],
   "cell_type": "markdown",
   "metadata": {}
  },
  {
   "source": [
    "First, let's start by browsing the documentation on string manipulation with Pandas https://pandas.pydata.org/pandas-docs/stable/user_guide/text.html. \n",
    "\n",
    "(If you need a more in-depth refresher checkout Melanie Walsh's notebooks from the earlier workshop on Data Analysis with Pandas https://github.com/melaniewalsh/Data-Analysis-with-Pandas)."
   ],
   "cell_type": "markdown",
   "metadata": {}
  },
  {
   "cell_type": "code",
   "execution_count": 68,
   "metadata": {},
   "outputs": [],
   "source": [
    "# How might we do string matching based on pandas docs?\n",
    "# film1_df[film1_df.Sentence.str.contains(chars_df[0:1].Name.values[0])]"
   ]
  },
  {
   "source": [
    "Why didn't the above code work? Should we try a different method? Or is something wrong with the underlying data 🤔?"
   ],
   "cell_type": "markdown",
   "metadata": {}
  },
  {
   "cell_type": "code",
   "execution_count": 24,
   "metadata": {},
   "outputs": [],
   "source": [
    "# #  Let's inspect chars_df\n",
    "# chars_df[0:1].Name.values[0]"
   ]
  },
  {
   "source": [
    "We can solve this issue a few ways, let's start with splitting names apart so we can search for first and last names separately."
   ],
   "cell_type": "markdown",
   "metadata": {}
  },
  {
   "cell_type": "code",
   "execution_count": 193,
   "metadata": {},
   "outputs": [
    {
     "output_type": "execute_result",
     "data": {
      "text/plain": [
       "        Character                                           Sentence\n",
       "28     Dumbledore                          Good luck...Harry Potter.\n",
       "107        Dudley                   Dad, look! Harry's got a letter!\n",
       "117        Vernon                              Right you are, Harry!\n",
       "133         Harry                                Make a wish, Harry.\n",
       "139        Hagrid  Mind, I haven't seen you since you was a baby,...\n",
       "...           ...                                                ...\n",
       "1536  Dumbledore   Harry, do you know why Professor Quirrell coul...\n",
       "1542   Dumbledore                                Love, Harry, love. \n",
       "1565   Dumbledore  And third, to Mr. Harry Potter, for pure nerve...\n",
       "1576     Hermione                                    Come on, Harry.\n",
       "1582       Hagrid  Oh, listen, Harry, if that dolt of a cousin of...\n",
       "\n",
       "[114 rows x 2 columns]"
      ],
      "text/html": "<div>\n<style scoped>\n    .dataframe tbody tr th:only-of-type {\n        vertical-align: middle;\n    }\n\n    .dataframe tbody tr th {\n        vertical-align: top;\n    }\n\n    .dataframe thead th {\n        text-align: right;\n    }\n</style>\n<table border=\"1\" class=\"dataframe\">\n  <thead>\n    <tr style=\"text-align: right;\">\n      <th></th>\n      <th>Character</th>\n      <th>Sentence</th>\n    </tr>\n  </thead>\n  <tbody>\n    <tr>\n      <th>28</th>\n      <td>Dumbledore</td>\n      <td>Good luck...Harry Potter.</td>\n    </tr>\n    <tr>\n      <th>107</th>\n      <td>Dudley</td>\n      <td>Dad, look! Harry's got a letter!</td>\n    </tr>\n    <tr>\n      <th>117</th>\n      <td>Vernon</td>\n      <td>Right you are, Harry!</td>\n    </tr>\n    <tr>\n      <th>133</th>\n      <td>Harry</td>\n      <td>Make a wish, Harry.</td>\n    </tr>\n    <tr>\n      <th>139</th>\n      <td>Hagrid</td>\n      <td>Mind, I haven't seen you since you was a baby,...</td>\n    </tr>\n    <tr>\n      <th>...</th>\n      <td>...</td>\n      <td>...</td>\n    </tr>\n    <tr>\n      <th>1536</th>\n      <td>Dumbledore</td>\n      <td>Harry, do you know why Professor Quirrell coul...</td>\n    </tr>\n    <tr>\n      <th>1542</th>\n      <td>Dumbledore</td>\n      <td>Love, Harry, love.</td>\n    </tr>\n    <tr>\n      <th>1565</th>\n      <td>Dumbledore</td>\n      <td>And third, to Mr. Harry Potter, for pure nerve...</td>\n    </tr>\n    <tr>\n      <th>1576</th>\n      <td>Hermione</td>\n      <td>Come on, Harry.</td>\n    </tr>\n    <tr>\n      <th>1582</th>\n      <td>Hagrid</td>\n      <td>Oh, listen, Harry, if that dolt of a cousin of...</td>\n    </tr>\n  </tbody>\n</table>\n<p>114 rows × 2 columns</p>\n</div>"
     },
     "metadata": {},
     "execution_count": 193
    }
   ],
   "source": [
    "chars_df['split_names'] = chars_df.Name.str.split(' ')\n",
    "\n",
    "film1_df[film1_df.Sentence.str.contains('|'.join(chars_df[0:1].split_names.values[0]))]"
   ]
  },
  {
   "source": [
    "Great we're getting results! I realize the syntax is a little wonky but essentially we're splitting names and them joining them back together with the pipe operator so that pandas knows to check for any of them within the sentence (so in this case `Harry`, `James`, or `Potter` exists in 114 rows).\n",
    "\n",
    "Let's try and get this code working with all our character names."
   ],
   "cell_type": "markdown",
   "metadata": {}
  },
  {
   "cell_type": "code",
   "execution_count": 194,
   "metadata": {},
   "outputs": [],
   "source": [
    "def find_entities(row):\n",
    "    character_names = chars_df.split_names.tolist()\n",
    "    identified_names = []\n",
    "    for names in character_names:\n",
    "        if any(name in row.Sentence for name in names):\n",
    "            identified_names.append(' '.join(names))\n",
    "    row['identified_names'] = identified_names\n",
    "    return row\n",
    "film1_df = film1_df.apply(find_entities, axis=1)"
   ]
  },
  {
   "cell_type": "code",
   "execution_count": 63,
   "metadata": {},
   "outputs": [
    {
     "output_type": "execute_result",
     "data": {
      "text/plain": [
       "    Character                                           Sentence  \\\n",
       "0  Dumbledore  I should've known that you would be here, Prof...   \n",
       "1  McGonagall                Good evening, Professor Dumbledore.   \n",
       "2  McGonagall                        Are the rumors true, Albus?   \n",
       "6  Dumbledore                            Hagrid is bringing him.   \n",
       "7  McGonagall  Do you think it wise to trust Hagrid with some...   \n",
       "\n",
       "                                    identified_names  \n",
       "0                               [Minerva McGonagall]  \n",
       "1  [Albus Percival Wulfric Brian Dumbledore, Aber...  \n",
       "2  [Albus Percival Wulfric Brian Dumbledore, Albu...  \n",
       "6                                    [Rubeus Hagrid]  \n",
       "7                                    [Rubeus Hagrid]  "
      ],
      "text/html": "<div>\n<style scoped>\n    .dataframe tbody tr th:only-of-type {\n        vertical-align: middle;\n    }\n\n    .dataframe tbody tr th {\n        vertical-align: top;\n    }\n\n    .dataframe thead th {\n        text-align: right;\n    }\n</style>\n<table border=\"1\" class=\"dataframe\">\n  <thead>\n    <tr style=\"text-align: right;\">\n      <th></th>\n      <th>Character</th>\n      <th>Sentence</th>\n      <th>identified_names</th>\n    </tr>\n  </thead>\n  <tbody>\n    <tr>\n      <th>0</th>\n      <td>Dumbledore</td>\n      <td>I should've known that you would be here, Prof...</td>\n      <td>[Minerva McGonagall]</td>\n    </tr>\n    <tr>\n      <th>1</th>\n      <td>McGonagall</td>\n      <td>Good evening, Professor Dumbledore.</td>\n      <td>[Albus Percival Wulfric Brian Dumbledore, Aber...</td>\n    </tr>\n    <tr>\n      <th>2</th>\n      <td>McGonagall</td>\n      <td>Are the rumors true, Albus?</td>\n      <td>[Albus Percival Wulfric Brian Dumbledore, Albu...</td>\n    </tr>\n    <tr>\n      <th>6</th>\n      <td>Dumbledore</td>\n      <td>Hagrid is bringing him.</td>\n      <td>[Rubeus Hagrid]</td>\n    </tr>\n    <tr>\n      <th>7</th>\n      <td>McGonagall</td>\n      <td>Do you think it wise to trust Hagrid with some...</td>\n      <td>[Rubeus Hagrid]</td>\n    </tr>\n  </tbody>\n</table>\n</div>"
     },
     "metadata": {},
     "execution_count": 63
    }
   ],
   "source": [
    "# Let's inspect our results\n",
    "film1_df.head()"
   ]
  },
  {
   "cell_type": "code",
   "execution_count": 195,
   "metadata": {},
   "outputs": [
    {
     "output_type": "execute_result",
     "data": {
      "text/plain": [
       "    Character                                           Sentence  \\\n",
       "0  Dumbledore  I should've known that you would be here, Prof...   \n",
       "1  McGonagall                Good evening, Professor Dumbledore.   \n",
       "1  McGonagall                Good evening, Professor Dumbledore.   \n",
       "2  McGonagall                        Are the rumors true, Albus?   \n",
       "2  McGonagall                        Are the rumors true, Albus?   \n",
       "\n",
       "                          identified_names  \n",
       "0                       Minerva McGonagall  \n",
       "1  Albus Percival Wulfric Brian Dumbledore  \n",
       "1                     Aberforth Dumbledore  \n",
       "2  Albus Percival Wulfric Brian Dumbledore  \n",
       "2                     Albus Severus Potter  "
      ],
      "text/html": "<div>\n<style scoped>\n    .dataframe tbody tr th:only-of-type {\n        vertical-align: middle;\n    }\n\n    .dataframe tbody tr th {\n        vertical-align: top;\n    }\n\n    .dataframe thead th {\n        text-align: right;\n    }\n</style>\n<table border=\"1\" class=\"dataframe\">\n  <thead>\n    <tr style=\"text-align: right;\">\n      <th></th>\n      <th>Character</th>\n      <th>Sentence</th>\n      <th>identified_names</th>\n    </tr>\n  </thead>\n  <tbody>\n    <tr>\n      <th>0</th>\n      <td>Dumbledore</td>\n      <td>I should've known that you would be here, Prof...</td>\n      <td>Minerva McGonagall</td>\n    </tr>\n    <tr>\n      <th>1</th>\n      <td>McGonagall</td>\n      <td>Good evening, Professor Dumbledore.</td>\n      <td>Albus Percival Wulfric Brian Dumbledore</td>\n    </tr>\n    <tr>\n      <th>1</th>\n      <td>McGonagall</td>\n      <td>Good evening, Professor Dumbledore.</td>\n      <td>Aberforth Dumbledore</td>\n    </tr>\n    <tr>\n      <th>2</th>\n      <td>McGonagall</td>\n      <td>Are the rumors true, Albus?</td>\n      <td>Albus Percival Wulfric Brian Dumbledore</td>\n    </tr>\n    <tr>\n      <th>2</th>\n      <td>McGonagall</td>\n      <td>Are the rumors true, Albus?</td>\n      <td>Albus Severus Potter</td>\n    </tr>\n  </tbody>\n</table>\n</div>"
     },
     "metadata": {},
     "execution_count": 195
    }
   ],
   "source": [
    "film1_df = film1_df[film1_df.identified_names.astype(bool)]\n",
    "film1_exploded = film1_df.explode('identified_names')\n",
    "film1_exploded.head()"
   ]
  },
  {
   "source": [
    "This looks pretty close to what we want. We might eventually try and reconcile the names in `Character` and `identified_names`, but we've know officially run our first NER algorithm 🎉.\n",
    "\n",
    "But wait... let's inspect a little closer 🤔"
   ],
   "cell_type": "markdown",
   "metadata": {}
  },
  {
   "cell_type": "code",
   "execution_count": 64,
   "metadata": {},
   "outputs": [
    {
     "output_type": "execute_result",
     "data": {
      "text/plain": [
       "    Character                                   Sentence      identified_names\n",
       "188    Hagrid  A car crash killed Lily and James Potter?    Harry James Potter\n",
       "188    Hagrid  A car crash killed Lily and James Potter?        Lily J. Potter\n",
       "188    Hagrid  A car crash killed Lily and James Potter?          James Potter\n",
       "188    Hagrid  A car crash killed Lily and James Potter?  Albus Severus Potter\n",
       "188    Hagrid  A car crash killed Lily and James Potter?   James Sirius Potter"
      ],
      "text/html": "<div>\n<style scoped>\n    .dataframe tbody tr th:only-of-type {\n        vertical-align: middle;\n    }\n\n    .dataframe tbody tr th {\n        vertical-align: top;\n    }\n\n    .dataframe thead th {\n        text-align: right;\n    }\n</style>\n<table border=\"1\" class=\"dataframe\">\n  <thead>\n    <tr style=\"text-align: right;\">\n      <th></th>\n      <th>Character</th>\n      <th>Sentence</th>\n      <th>identified_names</th>\n    </tr>\n  </thead>\n  <tbody>\n    <tr>\n      <th>188</th>\n      <td>Hagrid</td>\n      <td>A car crash killed Lily and James Potter?</td>\n      <td>Harry James Potter</td>\n    </tr>\n    <tr>\n      <th>188</th>\n      <td>Hagrid</td>\n      <td>A car crash killed Lily and James Potter?</td>\n      <td>Lily J. Potter</td>\n    </tr>\n    <tr>\n      <th>188</th>\n      <td>Hagrid</td>\n      <td>A car crash killed Lily and James Potter?</td>\n      <td>James Potter</td>\n    </tr>\n    <tr>\n      <th>188</th>\n      <td>Hagrid</td>\n      <td>A car crash killed Lily and James Potter?</td>\n      <td>Albus Severus Potter</td>\n    </tr>\n    <tr>\n      <th>188</th>\n      <td>Hagrid</td>\n      <td>A car crash killed Lily and James Potter?</td>\n      <td>James Sirius Potter</td>\n    </tr>\n  </tbody>\n</table>\n</div>"
     },
     "metadata": {},
     "execution_count": 64
    }
   ],
   "source": [
    "film1_exploded[film1_exploded.Sentence.str.contains('James')]"
   ]
  },
  {
   "source": [
    "We can see in this example that while we are correctly identifying Lily and James Potter, we're also returning values for Harry and Albus Potter. This makes sense since we're only checking if **any** of the strings in the names match. If we try to match the whole exact name we end up back we're we started, since few characters say the full name of the character they are either speaking  or referring to.\n",
    "\n",
    "There's a few solutions we could implement.\n",
    "\n",
    "We could for example try and remove middle names since they are used infrequently and we could even write a function that uses distance metrics to weight our matches. \n",
    "\n",
    "But instead of going deeper here let's zoom out for a second.\n",
    "\n",
    "***"
   ],
   "cell_type": "markdown",
   "metadata": {}
  },
  {
   "source": [
    "#### Pre-Processing and Interpretation"
   ],
   "cell_type": "markdown",
   "metadata": {}
  },
  {
   "source": [
    "So far we've used a list of characters metadata, separated the names by spaces, and then checked if those names matched, which gave us some preliminary data but still some errors as well.\n",
    "\n",
    "All of these steps might feel small, but they actually represent big interpretative choices. \n",
    "\n",
    "While these types of choices are often called *data cleaning* or *pre-processing*, they are all influential because each choice means we are altering our underlying dataset to prioritize algorithmic tractability.\n",
    "\n",
    "In \"Evaluating the Stability of Embedding-based Word Similarities\", Maria Antoniak and David Mimno describe the differing research goals of those interested in using NLP methods for *downstream-centered* versus *corpus-centered* research. \n",
    "\n",
    "![](./images/corpus_downstream.png)\n",
    "\n",
    "I often find this distinction is an important one to reinforce because for many tutorials and resources available, they assume that we are interested in downstream (that is we are using NLP methods and a corpus to either optimize our method or develop some downstream application like a search engine). However, most humanists are actually corpus-centric. We care about our data and representing it as accurately as possible, which means every pre-processing step needs to be considered carefully. So let's discuss some of these choices."
   ],
   "cell_type": "markdown",
   "metadata": {}
  },
  {
   "source": [
    "##### Tokenization\n",
    "\n",
    "In the field of corpus linguistics, the term “word” is generally dispensed with as too abstract in favor of the idea of a “token” or “type.” Breaking a piece of text into words is thus called “tokenization.”\n",
    "\n",
    "![tokenize](https://blog.floydhub.com/content/images/2020/02/tokenize.png)\n",
    "\n",
    "While so far we've tokenized on spaces, this image shows that we could do punctuation or even our set of rules depending on our goals and also our language of interest. Here's a deeper dive into other forms of tokenization for those interested https://blog.floydhub.com/tokenization-nlp/.\n",
    "\n",
    "In our example above, instead of tokenizing the names into unigrams, we might have tried bigrams instead to make sure we were catching full names as well."
   ],
   "cell_type": "markdown",
   "metadata": {}
  },
  {
   "source": [
    "##### Lemmatizing and Stemming \n",
    "\n",
    "In addition to tokenization, the other big choice we'll be making with NER is if we want to employ lemmatizing or stemming to our text to help identify entities and also limit the number of potential similar options. \n",
    "\n",
    "![stemming](https://miro.medium.com/max/1400/1*-MTbZK9ha3Kp1Z50o79Tzg.png)\n",
    "\n",
    "![lemma](https://devopedia.org/images/article/227/6785.1570815200.png)\n",
    "\n",
    "These choices will help normalize our data, which might work well if we're dealing with either OCR or human-entered data (both of which are notoriously error prone).\n",
    "\n",
    "Here is some code for actually implementing both stemming and lemmatizing.\n",
    "\n",
    "```python\n",
    "from nltk.stem import PorterStemmer\n",
    "porter = PorterStemmer()\n",
    "```\n",
    "First import the Porter Stemmer from NLTK, which is one of the more common stemming approaches. We can try out the stemmer using the `stem()` method on our text and then test if it is equal to the initial `text`.\n",
    "```python\n",
    "stemmed = porter.stem(text)\n",
    "print(stemmed == text)\n",
    "```\n",
    "We can test it out on our text, but really we want to use it on each row, so let's create a new function called `stem_words`.\n",
    "```python\n",
    "def stem_words(row):\n",
    "    stemmed_words = ''\n",
    "    for token in row.split(' '):\n",
    "        stemmed_words += porter.stem(token) + ' '\n",
    "    return stemmed_words\n",
    "film1_df['stemmed_sentence'] = film1_df.Sentence.apply(stem_words)\n",
    "```\n",
    "\n",
    "We can also import the `WordNetLemmatizer` from NLTK to also test out lemmatizing our text, and then create a second function to lemmatize the text.\n",
    "\n",
    "```python\n",
    "from nltk.stem import WordNetLemmatizer\n",
    "nltk.download('wordnet')\n",
    "wordnet_lemmatizer = WordNetLemmatizer()\n",
    "\n",
    "def lemma_words(row):\n",
    "    lemmatized_words = ''\n",
    "    for token in row.split(' '):\n",
    "        lemmatized_words += wordnet_lemmatizer.lemmatize(token) + ' '\n",
    "    return lemmatized_words\n",
    "film1_df['lemmatized_sentence'] = film1_df.Sentence.apply(lemma_words)\n",
    "```\n",
    "\n",
    "\n",
    "Another option is to use more complex string matching. For example, there's a popular Python library called `Fuzzy Wuzzy` that uses levenshtein distance to calculate string matches https://github.com/seatgeek/fuzzywuzzy.\n",
    "\n",
    "![fuzzywuzzy](./images/fuzzywuzzy.png)\n",
    "\n",
    "Or we might try the library `Textpack` that uses TFIDF weighting to also help normalize data across columns https://github.com/lukewhyte/textpack.\n",
    "\n",
    "![textpack](./images/textpack.png)"
   ],
   "cell_type": "markdown",
   "metadata": {}
  },
  {
   "source": [
    "One final thing we could do to normalize our data is try lowercasing both the character names and our film data to maximize matches (especially since we didn't actually scrape this data ourselves and so there might be inconsistencies or we might even be working with languages where there is no captialization)."
   ],
   "cell_type": "markdown",
   "metadata": {}
  },
  {
   "cell_type": "code",
   "execution_count": 70,
   "metadata": {},
   "outputs": [],
   "source": [
    "film1_df['sentence_lower'] = film1_df.Sentence.str.lower()\n",
    "chars_df['name_lower'] = chars_df.Name.str.lower()"
   ]
  },
  {
   "source": [
    "At this stage we could re-run our code, but one thing to think about is whether lowercasing our strings is not only going to get us more matches, but also more errors.\n",
    "\n",
    "For example, the name `Potter` might refer to at least three characters, but it is also both a verb and noun in English. "
   ],
   "cell_type": "markdown",
   "metadata": {}
  },
  {
   "source": [
    "***\n",
    "#### The Challenges of Unstructured Text\n",
    "\n",
    "The example above highlights one of the struggles of working with unstructured textual data and NER - that is many meanings of words are contextual.  \n",
    "\n",
    "Our example of `Potter` is an instance of *polysemy* - that is a word that has multiple, related meanings (another great example is the word `book`).\n",
    "\n",
    "We also have the issue of *homonymy*, when words are spelt the same but have completely distinct meanings (think of words like `bat` or `bank`).\n",
    "\n",
    "Finally we have *metonymy* where words are replaced with another reference but have the same meaning. A common example is businessman with suits, but in our dataset probably the best example is Voldemort with He-Who-Must-Not-Be-Named.\n",
    "\n",
    "NLP has developed lots of approaches for dealing with these issues (think of our slide listing NLP and NLU for example), but let's focus on seeing how NER can help us tackle these issues."
   ],
   "cell_type": "markdown",
   "metadata": {}
  },
  {
   "source": [
    "#### NER Python Libraries\n",
    "\n",
    "There are multiple libraries for NER in Python, and evaluating which one is right for your project and data depends on a few different factors. Each of these libraries has its own history, and some of what they provide overlaps. Here's a helpful chart outlining some of their pros and cons.\n",
    "\n",
    "![comparison](https://activewizards.com/content/blog/Comparison_of_Python_NLP_libraries/nlp-librares-python-prs-and-cons01.png)\n",
    "\n",
    "The main ones for NER particularly are the following:\n",
    "\n",
    "- NLTK [https://www.nltk.org/](https://www.nltk.org/)\n",
    "\n",
    "- spaCy [https://spacy.io/](https://spacy.io/)\n",
    "\n",
    "- STANZA https://stanfordnlp.github.io/stanza/\n",
    "\n",
    "- SPARK NLP https://www.johnsnowlabs.com/spark-nlp/\n",
    "\n",
    "\n",
    "I was initially planning to start with NLTK since it was largely the original (started in 2001), but I was having some dependency errors for their NER module (`ne_chunk`). So if you want to try it out yourself feel free to check out the instructions in the NLTK book https://www.nltk.org/book/ch07.html (look for 5   Named Entity Recognition\n",
    ").\n",
    "\n",
    "Instead, let's start off with spaCy!\n"
   ],
   "cell_type": "markdown",
   "metadata": {}
  },
  {
   "cell_type": "code",
   "execution_count": 115,
   "metadata": {},
   "outputs": [],
   "source": [
    "# # First let's download the library\n",
    "# import sys\n",
    "# !{sys.executable} -m pip install spacy"
   ]
  },
  {
   "source": [
    "We then need to download a model to work with spaCy so let's take a look at the model options and documentation https://spacy.io/usage/models"
   ],
   "cell_type": "markdown",
   "metadata": {}
  },
  {
   "cell_type": "code",
   "execution_count": 117,
   "metadata": {},
   "outputs": [],
   "source": [
    "# # Then let's download our spacy model\n",
    "# !python3 -m spacy download en_core_web_sm"
   ]
  },
  {
   "cell_type": "code",
   "execution_count": 119,
   "metadata": {},
   "outputs": [],
   "source": [
    "# Finally we can import Spacy and the model\n",
    "import spacy\n",
    "nlp = spacy.load('en_core_web_sm')\n",
    "# Or use the default model, which has fewer features:\n",
    "# nlp = spacy.load('en')"
   ]
  },
  {
   "source": [
    "Let's take a look at the spaCy implementation https://spacy.io/usage/spacy-101#annotations-ner"
   ],
   "cell_type": "markdown",
   "metadata": {}
  },
  {
   "cell_type": "code",
   "execution_count": 121,
   "metadata": {},
   "outputs": [
    {
     "output_type": "stream",
     "name": "stdout",
     "text": [
      "Apple 0 5 ORG\nU.K. 27 31 GPE\n$1 billion 44 54 MONEY\n"
     ]
    }
   ],
   "source": [
    "doc = nlp(\"Apple is looking at buying U.K. startup for $1 billion\")\n",
    "\n",
    "for ent in doc.ents:\n",
    "    print(ent.text, ent.start_char, ent.end_char, ent.label_)"
   ]
  },
  {
   "cell_type": "code",
   "execution_count": 128,
   "metadata": {},
   "outputs": [
    {
     "output_type": "execute_result",
     "data": {
      "text/plain": [
       "(spacy.tokens.doc.Doc, Apple is looking at buying U.K. startup for $1 billion)"
      ]
     },
     "metadata": {},
     "execution_count": 128
    }
   ],
   "source": [
    "type(doc), doc"
   ]
  },
  {
   "source": [
    "What is a type `Doc`? [https://spacy.io/api/doc](https://spacy.io/api/doc)"
   ],
   "cell_type": "markdown",
   "metadata": {}
  },
  {
   "cell_type": "code",
   "execution_count": 124,
   "metadata": {},
   "outputs": [
    {
     "output_type": "execute_result",
     "data": {
      "text/plain": [
       "['cats',\n",
       " 'char_span',\n",
       " 'copy',\n",
       " 'count_by',\n",
       " 'doc',\n",
       " 'ents',\n",
       " 'extend_tensor',\n",
       " 'from_array',\n",
       " 'from_bytes',\n",
       " 'from_dict',\n",
       " 'from_disk',\n",
       " 'from_docs',\n",
       " 'get_extension',\n",
       " 'get_lca_matrix',\n",
       " 'has_annotation',\n",
       " 'has_extension',\n",
       " 'has_unknown_spaces',\n",
       " 'has_vector',\n",
       " 'is_nered',\n",
       " 'is_parsed',\n",
       " 'is_sentenced',\n",
       " 'is_tagged',\n",
       " 'lang',\n",
       " 'lang_',\n",
       " 'mem',\n",
       " 'noun_chunks',\n",
       " 'noun_chunks_iterator',\n",
       " 'remove_extension',\n",
       " 'retokenize',\n",
       " 'sentiment',\n",
       " 'sents',\n",
       " 'set_ents',\n",
       " 'set_extension',\n",
       " 'similarity',\n",
       " 'spans',\n",
       " 'tensor',\n",
       " 'text',\n",
       " 'text_with_ws',\n",
       " 'to_array',\n",
       " 'to_bytes',\n",
       " 'to_dict',\n",
       " 'to_disk',\n",
       " 'to_json',\n",
       " 'to_utf8_array',\n",
       " 'user_data',\n",
       " 'user_hooks',\n",
       " 'user_span_hooks',\n",
       " 'user_token_hooks',\n",
       " 'vector',\n",
       " 'vector_norm',\n",
       " 'vocab']"
      ]
     },
     "metadata": {},
     "execution_count": 124
    }
   ],
   "source": [
    "# Let's dig into what this Class gives us\n",
    "[prop for prop in dir(doc) if not prop.startswith('_')]"
   ]
  },
  {
   "source": [
    "We also have the Class `Token` [https://spacy.io/api/token](https://spacy.io/api/token)"
   ],
   "cell_type": "markdown",
   "metadata": {}
  },
  {
   "cell_type": "code",
   "execution_count": 125,
   "metadata": {},
   "outputs": [
    {
     "output_type": "execute_result",
     "data": {
      "text/plain": [
       "spacy.tokens.token.Token"
      ]
     },
     "metadata": {},
     "execution_count": 125
    }
   ],
   "source": [
    "first_word = doc[0]\n",
    "type(first_word)"
   ]
  },
  {
   "cell_type": "code",
   "execution_count": 126,
   "metadata": {},
   "outputs": [
    {
     "output_type": "execute_result",
     "data": {
      "text/plain": [
       "['_',\n",
       " 'ancestors',\n",
       " 'check_flag',\n",
       " 'children',\n",
       " 'cluster',\n",
       " 'conjuncts',\n",
       " 'dep',\n",
       " 'dep_',\n",
       " 'doc',\n",
       " 'ent_id',\n",
       " 'ent_id_',\n",
       " 'ent_iob',\n",
       " 'ent_iob_',\n",
       " 'ent_kb_id',\n",
       " 'ent_kb_id_',\n",
       " 'ent_type',\n",
       " 'ent_type_',\n",
       " 'get_extension',\n",
       " 'has_dep',\n",
       " 'has_extension',\n",
       " 'has_head',\n",
       " 'has_morph',\n",
       " 'has_vector',\n",
       " 'head',\n",
       " 'i',\n",
       " 'idx',\n",
       " 'iob_strings',\n",
       " 'is_alpha',\n",
       " 'is_ancestor',\n",
       " 'is_ascii',\n",
       " 'is_bracket',\n",
       " 'is_currency',\n",
       " 'is_digit',\n",
       " 'is_left_punct',\n",
       " 'is_lower',\n",
       " 'is_oov',\n",
       " 'is_punct',\n",
       " 'is_quote',\n",
       " 'is_right_punct',\n",
       " 'is_sent_end',\n",
       " 'is_sent_start',\n",
       " 'is_space',\n",
       " 'is_stop',\n",
       " 'is_title',\n",
       " 'is_upper',\n",
       " 'lang',\n",
       " 'lang_',\n",
       " 'left_edge',\n",
       " 'lefts',\n",
       " 'lemma',\n",
       " 'lemma_',\n",
       " 'lex',\n",
       " 'lex_id',\n",
       " 'like_email',\n",
       " 'like_num',\n",
       " 'like_url',\n",
       " 'lower',\n",
       " 'lower_',\n",
       " 'morph',\n",
       " 'n_lefts',\n",
       " 'n_rights',\n",
       " 'nbor',\n",
       " 'norm',\n",
       " 'norm_',\n",
       " 'orth',\n",
       " 'orth_',\n",
       " 'pos',\n",
       " 'pos_',\n",
       " 'prefix',\n",
       " 'prefix_',\n",
       " 'prob',\n",
       " 'rank',\n",
       " 'remove_extension',\n",
       " 'right_edge',\n",
       " 'rights',\n",
       " 'sent',\n",
       " 'sent_start',\n",
       " 'sentiment',\n",
       " 'set_extension',\n",
       " 'set_morph',\n",
       " 'shape',\n",
       " 'shape_',\n",
       " 'similarity',\n",
       " 'subtree',\n",
       " 'suffix',\n",
       " 'suffix_',\n",
       " 'tag',\n",
       " 'tag_',\n",
       " 'tensor',\n",
       " 'text',\n",
       " 'text_with_ws',\n",
       " 'vector',\n",
       " 'vector_norm',\n",
       " 'vocab',\n",
       " 'whitespace_']"
      ]
     },
     "metadata": {},
     "execution_count": 126
    }
   ],
   "source": [
    "[prop for prop in dir(first_word) if not prop.startswith('__')]"
   ]
  },
  {
   "source": [
    "So let's try this out with our data!"
   ],
   "cell_type": "markdown",
   "metadata": {}
  },
  {
   "cell_type": "code",
   "execution_count": 129,
   "metadata": {},
   "outputs": [
    {
     "output_type": "execute_result",
     "data": {
      "text/plain": [
       "I should've known that you would be here, Professor McGonagall."
      ]
     },
     "metadata": {},
     "execution_count": 129
    }
   ],
   "source": [
    "film1_doc = nlp(film1_df[0:1].Sentence.values[0])\n",
    "film1_doc"
   ]
  },
  {
   "cell_type": "code",
   "execution_count": 130,
   "metadata": {},
   "outputs": [
    {
     "output_type": "stream",
     "name": "stdout",
     "text": [
      "I PRON\nshould AUX\n've AUX\nknown VERB\nthat SCONJ\nyou PRON\nwould AUX\nbe VERB\nhere ADV\n, PUNCT\nProfessor PROPN\nMcGonagall PROPN\n. PUNCT\n"
     ]
    }
   ],
   "source": [
    "# We could use spaCy for parts-of-speech tagging of this sentence\n",
    "for token in film1_doc:\n",
    "    print(token.text, token.pos_)"
   ]
  },
  {
   "cell_type": "code",
   "execution_count": 133,
   "metadata": {},
   "outputs": [
    {
     "output_type": "display_data",
     "data": {
      "text/plain": "<IPython.core.display.HTML object>",
      "text/html": "<span class=\"tex2jax_ignore\"><svg xmlns=\"http://www.w3.org/2000/svg\" xmlns:xlink=\"http://www.w3.org/1999/xlink\" xml:lang=\"en\" id=\"c216de0dd47749089360f6417a792d31-0\" class=\"displacy\" width=\"1975\" height=\"487.0\" direction=\"ltr\" style=\"max-width: none; height: 487.0px; color: #000000; background: #ffffff; font-family: Arial; direction: ltr\">\n<text class=\"displacy-token\" fill=\"currentColor\" text-anchor=\"middle\" y=\"397.0\">\n    <tspan class=\"displacy-word\" fill=\"currentColor\" x=\"50\">I</tspan>\n    <tspan class=\"displacy-tag\" dy=\"2em\" fill=\"currentColor\" x=\"50\">PRON</tspan>\n</text>\n\n<text class=\"displacy-token\" fill=\"currentColor\" text-anchor=\"middle\" y=\"397.0\">\n    <tspan class=\"displacy-word\" fill=\"currentColor\" x=\"225\">should</tspan>\n    <tspan class=\"displacy-tag\" dy=\"2em\" fill=\"currentColor\" x=\"225\">AUX</tspan>\n</text>\n\n<text class=\"displacy-token\" fill=\"currentColor\" text-anchor=\"middle\" y=\"397.0\">\n    <tspan class=\"displacy-word\" fill=\"currentColor\" x=\"400\">'ve</tspan>\n    <tspan class=\"displacy-tag\" dy=\"2em\" fill=\"currentColor\" x=\"400\">AUX</tspan>\n</text>\n\n<text class=\"displacy-token\" fill=\"currentColor\" text-anchor=\"middle\" y=\"397.0\">\n    <tspan class=\"displacy-word\" fill=\"currentColor\" x=\"575\">known</tspan>\n    <tspan class=\"displacy-tag\" dy=\"2em\" fill=\"currentColor\" x=\"575\">VERB</tspan>\n</text>\n\n<text class=\"displacy-token\" fill=\"currentColor\" text-anchor=\"middle\" y=\"397.0\">\n    <tspan class=\"displacy-word\" fill=\"currentColor\" x=\"750\">that</tspan>\n    <tspan class=\"displacy-tag\" dy=\"2em\" fill=\"currentColor\" x=\"750\">SCONJ</tspan>\n</text>\n\n<text class=\"displacy-token\" fill=\"currentColor\" text-anchor=\"middle\" y=\"397.0\">\n    <tspan class=\"displacy-word\" fill=\"currentColor\" x=\"925\">you</tspan>\n    <tspan class=\"displacy-tag\" dy=\"2em\" fill=\"currentColor\" x=\"925\">PRON</tspan>\n</text>\n\n<text class=\"displacy-token\" fill=\"currentColor\" text-anchor=\"middle\" y=\"397.0\">\n    <tspan class=\"displacy-word\" fill=\"currentColor\" x=\"1100\">would</tspan>\n    <tspan class=\"displacy-tag\" dy=\"2em\" fill=\"currentColor\" x=\"1100\">AUX</tspan>\n</text>\n\n<text class=\"displacy-token\" fill=\"currentColor\" text-anchor=\"middle\" y=\"397.0\">\n    <tspan class=\"displacy-word\" fill=\"currentColor\" x=\"1275\">be</tspan>\n    <tspan class=\"displacy-tag\" dy=\"2em\" fill=\"currentColor\" x=\"1275\">VERB</tspan>\n</text>\n\n<text class=\"displacy-token\" fill=\"currentColor\" text-anchor=\"middle\" y=\"397.0\">\n    <tspan class=\"displacy-word\" fill=\"currentColor\" x=\"1450\">here,</tspan>\n    <tspan class=\"displacy-tag\" dy=\"2em\" fill=\"currentColor\" x=\"1450\">ADV</tspan>\n</text>\n\n<text class=\"displacy-token\" fill=\"currentColor\" text-anchor=\"middle\" y=\"397.0\">\n    <tspan class=\"displacy-word\" fill=\"currentColor\" x=\"1625\">Professor</tspan>\n    <tspan class=\"displacy-tag\" dy=\"2em\" fill=\"currentColor\" x=\"1625\">PROPN</tspan>\n</text>\n\n<text class=\"displacy-token\" fill=\"currentColor\" text-anchor=\"middle\" y=\"397.0\">\n    <tspan class=\"displacy-word\" fill=\"currentColor\" x=\"1800\">McGonagall.</tspan>\n    <tspan class=\"displacy-tag\" dy=\"2em\" fill=\"currentColor\" x=\"1800\">PROPN</tspan>\n</text>\n\n<g class=\"displacy-arrow\">\n    <path class=\"displacy-arc\" id=\"arrow-c216de0dd47749089360f6417a792d31-0-0\" stroke-width=\"2px\" d=\"M70,352.0 C70,89.5 570.0,89.5 570.0,352.0\" fill=\"none\" stroke=\"currentColor\"/>\n    <text dy=\"1.25em\" style=\"font-size: 0.8em; letter-spacing: 1px\">\n        <textPath xlink:href=\"#arrow-c216de0dd47749089360f6417a792d31-0-0\" class=\"displacy-label\" startOffset=\"50%\" side=\"left\" fill=\"currentColor\" text-anchor=\"middle\">nsubj</textPath>\n    </text>\n    <path class=\"displacy-arrowhead\" d=\"M70,354.0 L62,342.0 78,342.0\" fill=\"currentColor\"/>\n</g>\n\n<g class=\"displacy-arrow\">\n    <path class=\"displacy-arc\" id=\"arrow-c216de0dd47749089360f6417a792d31-0-1\" stroke-width=\"2px\" d=\"M245,352.0 C245,177.0 565.0,177.0 565.0,352.0\" fill=\"none\" stroke=\"currentColor\"/>\n    <text dy=\"1.25em\" style=\"font-size: 0.8em; letter-spacing: 1px\">\n        <textPath xlink:href=\"#arrow-c216de0dd47749089360f6417a792d31-0-1\" class=\"displacy-label\" startOffset=\"50%\" side=\"left\" fill=\"currentColor\" text-anchor=\"middle\">aux</textPath>\n    </text>\n    <path class=\"displacy-arrowhead\" d=\"M245,354.0 L237,342.0 253,342.0\" fill=\"currentColor\"/>\n</g>\n\n<g class=\"displacy-arrow\">\n    <path class=\"displacy-arc\" id=\"arrow-c216de0dd47749089360f6417a792d31-0-2\" stroke-width=\"2px\" d=\"M420,352.0 C420,264.5 560.0,264.5 560.0,352.0\" fill=\"none\" stroke=\"currentColor\"/>\n    <text dy=\"1.25em\" style=\"font-size: 0.8em; letter-spacing: 1px\">\n        <textPath xlink:href=\"#arrow-c216de0dd47749089360f6417a792d31-0-2\" class=\"displacy-label\" startOffset=\"50%\" side=\"left\" fill=\"currentColor\" text-anchor=\"middle\">aux</textPath>\n    </text>\n    <path class=\"displacy-arrowhead\" d=\"M420,354.0 L412,342.0 428,342.0\" fill=\"currentColor\"/>\n</g>\n\n<g class=\"displacy-arrow\">\n    <path class=\"displacy-arc\" id=\"arrow-c216de0dd47749089360f6417a792d31-0-3\" stroke-width=\"2px\" d=\"M770,352.0 C770,89.5 1270.0,89.5 1270.0,352.0\" fill=\"none\" stroke=\"currentColor\"/>\n    <text dy=\"1.25em\" style=\"font-size: 0.8em; letter-spacing: 1px\">\n        <textPath xlink:href=\"#arrow-c216de0dd47749089360f6417a792d31-0-3\" class=\"displacy-label\" startOffset=\"50%\" side=\"left\" fill=\"currentColor\" text-anchor=\"middle\">mark</textPath>\n    </text>\n    <path class=\"displacy-arrowhead\" d=\"M770,354.0 L762,342.0 778,342.0\" fill=\"currentColor\"/>\n</g>\n\n<g class=\"displacy-arrow\">\n    <path class=\"displacy-arc\" id=\"arrow-c216de0dd47749089360f6417a792d31-0-4\" stroke-width=\"2px\" d=\"M945,352.0 C945,177.0 1265.0,177.0 1265.0,352.0\" fill=\"none\" stroke=\"currentColor\"/>\n    <text dy=\"1.25em\" style=\"font-size: 0.8em; letter-spacing: 1px\">\n        <textPath xlink:href=\"#arrow-c216de0dd47749089360f6417a792d31-0-4\" class=\"displacy-label\" startOffset=\"50%\" side=\"left\" fill=\"currentColor\" text-anchor=\"middle\">nsubj</textPath>\n    </text>\n    <path class=\"displacy-arrowhead\" d=\"M945,354.0 L937,342.0 953,342.0\" fill=\"currentColor\"/>\n</g>\n\n<g class=\"displacy-arrow\">\n    <path class=\"displacy-arc\" id=\"arrow-c216de0dd47749089360f6417a792d31-0-5\" stroke-width=\"2px\" d=\"M1120,352.0 C1120,264.5 1260.0,264.5 1260.0,352.0\" fill=\"none\" stroke=\"currentColor\"/>\n    <text dy=\"1.25em\" style=\"font-size: 0.8em; letter-spacing: 1px\">\n        <textPath xlink:href=\"#arrow-c216de0dd47749089360f6417a792d31-0-5\" class=\"displacy-label\" startOffset=\"50%\" side=\"left\" fill=\"currentColor\" text-anchor=\"middle\">aux</textPath>\n    </text>\n    <path class=\"displacy-arrowhead\" d=\"M1120,354.0 L1112,342.0 1128,342.0\" fill=\"currentColor\"/>\n</g>\n\n<g class=\"displacy-arrow\">\n    <path class=\"displacy-arc\" id=\"arrow-c216de0dd47749089360f6417a792d31-0-6\" stroke-width=\"2px\" d=\"M595,352.0 C595,2.0 1275.0,2.0 1275.0,352.0\" fill=\"none\" stroke=\"currentColor\"/>\n    <text dy=\"1.25em\" style=\"font-size: 0.8em; letter-spacing: 1px\">\n        <textPath xlink:href=\"#arrow-c216de0dd47749089360f6417a792d31-0-6\" class=\"displacy-label\" startOffset=\"50%\" side=\"left\" fill=\"currentColor\" text-anchor=\"middle\">ccomp</textPath>\n    </text>\n    <path class=\"displacy-arrowhead\" d=\"M1275.0,354.0 L1283.0,342.0 1267.0,342.0\" fill=\"currentColor\"/>\n</g>\n\n<g class=\"displacy-arrow\">\n    <path class=\"displacy-arc\" id=\"arrow-c216de0dd47749089360f6417a792d31-0-7\" stroke-width=\"2px\" d=\"M1295,352.0 C1295,264.5 1435.0,264.5 1435.0,352.0\" fill=\"none\" stroke=\"currentColor\"/>\n    <text dy=\"1.25em\" style=\"font-size: 0.8em; letter-spacing: 1px\">\n        <textPath xlink:href=\"#arrow-c216de0dd47749089360f6417a792d31-0-7\" class=\"displacy-label\" startOffset=\"50%\" side=\"left\" fill=\"currentColor\" text-anchor=\"middle\">advmod</textPath>\n    </text>\n    <path class=\"displacy-arrowhead\" d=\"M1435.0,354.0 L1443.0,342.0 1427.0,342.0\" fill=\"currentColor\"/>\n</g>\n\n<g class=\"displacy-arrow\">\n    <path class=\"displacy-arc\" id=\"arrow-c216de0dd47749089360f6417a792d31-0-8\" stroke-width=\"2px\" d=\"M1645,352.0 C1645,264.5 1785.0,264.5 1785.0,352.0\" fill=\"none\" stroke=\"currentColor\"/>\n    <text dy=\"1.25em\" style=\"font-size: 0.8em; letter-spacing: 1px\">\n        <textPath xlink:href=\"#arrow-c216de0dd47749089360f6417a792d31-0-8\" class=\"displacy-label\" startOffset=\"50%\" side=\"left\" fill=\"currentColor\" text-anchor=\"middle\">compound</textPath>\n    </text>\n    <path class=\"displacy-arrowhead\" d=\"M1645,354.0 L1637,342.0 1653,342.0\" fill=\"currentColor\"/>\n</g>\n\n<g class=\"displacy-arrow\">\n    <path class=\"displacy-arc\" id=\"arrow-c216de0dd47749089360f6417a792d31-0-9\" stroke-width=\"2px\" d=\"M1295,352.0 C1295,89.5 1795.0,89.5 1795.0,352.0\" fill=\"none\" stroke=\"currentColor\"/>\n    <text dy=\"1.25em\" style=\"font-size: 0.8em; letter-spacing: 1px\">\n        <textPath xlink:href=\"#arrow-c216de0dd47749089360f6417a792d31-0-9\" class=\"displacy-label\" startOffset=\"50%\" side=\"left\" fill=\"currentColor\" text-anchor=\"middle\">npadvmod</textPath>\n    </text>\n    <path class=\"displacy-arrowhead\" d=\"M1795.0,354.0 L1803.0,342.0 1787.0,342.0\" fill=\"currentColor\"/>\n</g>\n</svg></span>"
     },
     "metadata": {}
    }
   ],
   "source": [
    "from spacy import displacy\n",
    "displacy.render(film1_doc, style=\"dep\")"
   ]
  },
  {
   "cell_type": "code",
   "execution_count": 134,
   "metadata": {},
   "outputs": [
    {
     "output_type": "stream",
     "name": "stderr",
     "text": [
      "/Users/EZCorp/workspace/tapi_workshops/ner_hum/ner_hum_env/lib/python3.9/site-packages/spacy/displacy/__init__.py:189: UserWarning: [W006] No entities to visualize found in Doc object. If this is surprising to you, make sure the Doc was processed using a model that supports named entity recognition, and check the `doc.ents` property manually if necessary.\n  warnings.warn(Warnings.W006)\n"
     ]
    },
    {
     "output_type": "display_data",
     "data": {
      "text/plain": "<IPython.core.display.HTML object>",
      "text/html": "<span class=\"tex2jax_ignore\"><div class=\"entities\" style=\"line-height: 2.5; direction: ltr\">I should've known that you would be here, Professor McGonagall.</div></span>"
     },
     "metadata": {}
    }
   ],
   "source": [
    "from spacy import displacy\n",
    "displacy.render(film1_doc, style=\"ent\")"
   ]
  },
  {
   "cell_type": "code",
   "execution_count": 138,
   "metadata": {},
   "outputs": [
    {
     "output_type": "execute_result",
     "data": {
      "text/plain": [
       "He received an urgent owl from the Ministry of Magic and left immediately for London."
      ]
     },
     "metadata": {},
     "execution_count": 138
    }
   ],
   "source": [
    "london_doc = nlp(film1_df[film1_df.Sentence.str.contains('London')][1:2].Sentence.values[0])\n",
    "london_doc"
   ]
  },
  {
   "cell_type": "code",
   "execution_count": 139,
   "metadata": {},
   "outputs": [
    {
     "output_type": "display_data",
     "data": {
      "text/plain": "<IPython.core.display.HTML object>",
      "text/html": "<span class=\"tex2jax_ignore\"><div class=\"entities\" style=\"line-height: 2.5; direction: ltr\">He received an urgent owl from \n<mark class=\"entity\" style=\"background: #7aecec; padding: 0.45em 0.6em; margin: 0 0.25em; line-height: 1; border-radius: 0.35em;\">\n    the Ministry of Magic\n    <span style=\"font-size: 0.8em; font-weight: bold; line-height: 1; border-radius: 0.35em; vertical-align: middle; margin-left: 0.5rem\">ORG</span>\n</mark>\n and left immediately for \n<mark class=\"entity\" style=\"background: #feca74; padding: 0.45em 0.6em; margin: 0 0.25em; line-height: 1; border-radius: 0.35em;\">\n    London\n    <span style=\"font-size: 0.8em; font-weight: bold; line-height: 1; border-radius: 0.35em; vertical-align: middle; margin-left: 0.5rem\">GPE</span>\n</mark>\n.</div></span>"
     },
     "metadata": {}
    }
   ],
   "source": [
    "displacy.render(london_doc, style=\"ent\")"
   ]
  },
  {
   "source": [
    "![spacy_entities](https://devopedia.org/images/article/256/8660.1580659054.png)"
   ],
   "cell_type": "markdown",
   "metadata": {}
  },
  {
   "cell_type": "code",
   "execution_count": 203,
   "metadata": {
    "tags": []
   },
   "outputs": [],
   "source": [
    "# So let's try and write a function to identify all Named Entities in our script\n",
    "identified_entities = []\n",
    "def find_spacy_entities(row):\n",
    "    # code goes here\n",
    "    spacy_sentence = nlp(row.Sentence)\n",
    "    \n",
    "    list_tokens = []\n",
    "    list_entities = []\n",
    "    for token in spacy_sentence.ents:\n",
    "        list_tokens.append(token.text)\n",
    "        list_entities.append(token.label_)\n",
    "    row['spacy_tokens'] = list_tokens\n",
    "    row['spacy_entities'] = list_entities\n",
    "    return row\n",
    "\n",
    "film1_df = film1_df.apply(find_spacy_entities, axis=1)"
   ]
  },
  {
   "cell_type": "code",
   "execution_count": 204,
   "metadata": {},
   "outputs": [
    {
     "output_type": "execute_result",
     "data": {
      "text/plain": [
       "    Character                                           Sentence  \\\n",
       "0  Dumbledore  I should've known that you would be here, Prof...   \n",
       "1  McGonagall                Good evening, Professor Dumbledore.   \n",
       "2  McGonagall                        Are the rumors true, Albus?   \n",
       "6  Dumbledore                            Hagrid is bringing him.   \n",
       "7  McGonagall  Do you think it wise to trust Hagrid with some...   \n",
       "\n",
       "                                    identified_names           spacy_tokens  \\\n",
       "0                               [Minerva McGonagall]                     []   \n",
       "1  [Albus Percival Wulfric Brian Dumbledore, Aber...  [evening, Dumbledore]   \n",
       "2  [Albus Percival Wulfric Brian Dumbledore, Albu...                [Albus]   \n",
       "6                                    [Rubeus Hagrid]                     []   \n",
       "7                                    [Rubeus Hagrid]               [Hagrid]   \n",
       "\n",
       "   spacy_entities  \n",
       "0              []  \n",
       "1  [TIME, PERSON]  \n",
       "2           [GPE]  \n",
       "6              []  \n",
       "7           [GPE]  "
      ],
      "text/html": "<div>\n<style scoped>\n    .dataframe tbody tr th:only-of-type {\n        vertical-align: middle;\n    }\n\n    .dataframe tbody tr th {\n        vertical-align: top;\n    }\n\n    .dataframe thead th {\n        text-align: right;\n    }\n</style>\n<table border=\"1\" class=\"dataframe\">\n  <thead>\n    <tr style=\"text-align: right;\">\n      <th></th>\n      <th>Character</th>\n      <th>Sentence</th>\n      <th>identified_names</th>\n      <th>spacy_tokens</th>\n      <th>spacy_entities</th>\n    </tr>\n  </thead>\n  <tbody>\n    <tr>\n      <th>0</th>\n      <td>Dumbledore</td>\n      <td>I should've known that you would be here, Prof...</td>\n      <td>[Minerva McGonagall]</td>\n      <td>[]</td>\n      <td>[]</td>\n    </tr>\n    <tr>\n      <th>1</th>\n      <td>McGonagall</td>\n      <td>Good evening, Professor Dumbledore.</td>\n      <td>[Albus Percival Wulfric Brian Dumbledore, Aber...</td>\n      <td>[evening, Dumbledore]</td>\n      <td>[TIME, PERSON]</td>\n    </tr>\n    <tr>\n      <th>2</th>\n      <td>McGonagall</td>\n      <td>Are the rumors true, Albus?</td>\n      <td>[Albus Percival Wulfric Brian Dumbledore, Albu...</td>\n      <td>[Albus]</td>\n      <td>[GPE]</td>\n    </tr>\n    <tr>\n      <th>6</th>\n      <td>Dumbledore</td>\n      <td>Hagrid is bringing him.</td>\n      <td>[Rubeus Hagrid]</td>\n      <td>[]</td>\n      <td>[]</td>\n    </tr>\n    <tr>\n      <th>7</th>\n      <td>McGonagall</td>\n      <td>Do you think it wise to trust Hagrid with some...</td>\n      <td>[Rubeus Hagrid]</td>\n      <td>[Hagrid]</td>\n      <td>[GPE]</td>\n    </tr>\n  </tbody>\n</table>\n</div>"
     },
     "metadata": {},
     "execution_count": 204
    }
   ],
   "source": [
    "film1_df.head()"
   ]
  },
  {
   "source": [
    "#### Rules-Based NER and Gazetteers\n",
    "\n",
    "So let's compare spaCy to what we had originally. You can see that spaCy is identifying for more entities than we did with the characters which might be useful depending on our goals, but for our network example we want the characters not just any entities.\n",
    "\n",
    "One way to think of our characters metadata is as a gazetteer.\n",
    "\n",
    "Gazetteers are a popular method in DH of dealing with variation in NER and identifying historical entities. You can look at the World Historical Gazetteer as an example http://whgazetteer.org/.\n",
    "\n",
    "With our characters list as a gazetteer, we could just keep trying to write more and more complex for loops, but alternatively we could join spaCy with this gazetteer by adding in new rules to our model.\n",
    "\n",
    "Rules-based NER "
   ],
   "cell_type": "markdown",
   "metadata": {}
  },
  {
   "cell_type": "code",
   "execution_count": 206,
   "metadata": {},
   "outputs": [],
   "source": [
    "#Create the EntityRuler\n",
    "ruler = nlp.add_pipe(\"entity_ruler\")\n",
    "patterns = [\n",
    "                {\"label\": \"PERSON\", \"pattern\": \"McGonagall\"}\n",
    "            ]\n",
    "\n",
    "ruler.add_patterns(patterns)\n"
   ]
  },
  {
   "cell_type": "code",
   "execution_count": 207,
   "metadata": {},
   "outputs": [
    {
     "output_type": "stream",
     "name": "stdout",
     "text": [
      "McGonagall PERSON\n"
     ]
    }
   ],
   "source": [
    "doc = nlp(film1_df[0:1].Sentence.values[0])\n",
    "#extract entities\n",
    "for ent in doc.ents:\n",
    "    print (ent.text, ent.label_)"
   ]
  },
  {
   "source": [
    "We can read more about rules based NER in William's textbook http://ner.pythonhumanities.com/02_rules_based_ner.html and the spacy documentation https://spacy.io/api/entityruler but for now let's try together to add in our remaining characters and see if we can improve Spacy's functionality for our goals."
   ],
   "cell_type": "markdown",
   "metadata": {}
  },
  {
   "cell_type": "code",
   "execution_count": 208,
   "metadata": {},
   "outputs": [],
   "source": [
    "# CODE GOES HERE"
   ]
  },
  {
   "source": [
    "***"
   ],
   "cell_type": "markdown",
   "metadata": {}
  },
  {
   "source": [
    "#### Additional Exercises"
   ],
   "cell_type": "markdown",
   "metadata": {}
  },
  {
   "source": [
    "If you quickly get through working with the Harry Potter dataset, then let's try working with a new more challenging dataset.\n",
    "\n",
    "In the `additional_data` folder, you'll see that there's a set of spreadsheets and text files. These datasets were pulled from the ParlaMint 2.1 database https://www.clarin.si/repository/xmlui/handle/11356/1432. \n",
    "\n",
    "> ParlaMint 2.1 is a multilingual set of 17 comparable corpora containing parliamentary debates mostly starting in 2015 and extending to mid-2020, with each corpus being about 20 million words in size. The sessions in the corpora are marked as belonging to the COVID-19 period (after November 1st 2019), or being \"reference\" (before that date)."
   ],
   "cell_type": "markdown",
   "metadata": {}
  },
  {
   "source": [
    "So you're goal for these datasets is to:\n",
    "1. load in the data and combine the text with the metadata\n",
    "2. see if you can get spaCy to identify entities\n",
    "3. try working with both the English and French language data (hint remember to load in the correct spacy model)"
   ],
   "cell_type": "markdown",
   "metadata": {}
  },
  {
   "cell_type": "code",
   "execution_count": null,
   "metadata": {},
   "outputs": [],
   "source": []
  }
 ],
 "metadata": {
  "kernelspec": {
   "display_name": "ner_hum_env",
   "language": "python",
   "name": "ner_hum_env"
  },
  "language_info": {
   "codemirror_mode": {
    "name": "ipython",
    "version": 3
   },
   "file_extension": ".py",
   "mimetype": "text/x-python",
   "name": "python",
   "nbconvert_exporter": "python",
   "pygments_lexer": "ipython3",
   "version": "3.9.5"
  }
 },
 "nbformat": 4,
 "nbformat_minor": 5
}